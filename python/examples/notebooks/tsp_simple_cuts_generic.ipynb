{
 "cells": [
  {
   "cell_type": "markdown",
   "metadata": {},
   "source": [
    "# Travelling Salesman Problem with subtour elimination\r\n",
    "This example shows how to solve a TSP  by eliminating subtours using:\r\n",
    "1) amplpy (defining the subtour elimination constraint in AMPL and instantiating it appropriately)\r\n",
    "2) ampls (adding cuts directly from the solver callback)"
   ]
  },
  {
   "cell_type": "code",
   "execution_count": null,
   "metadata": {},
   "outputs": [],
   "source": [
    "# Import utilities\r\n",
    "import os, sys\r\n",
    "\r\n",
    "sys.path.append(\"D:\\\\Development\\\\ampl\\\\solvers-private\\\\build\\\\vs64\\\\bin\")\r\n",
    "from math import floor, ceil\r\n",
    "from __future__ import print_function\r\n",
    "\r\n",
    "from amplpy import AMPL\r\n",
    "import amplpy_gurobi as ampls\r\n",
    "from patch import *"
   ]
  },
  {
   "cell_type": "markdown",
   "metadata": {},
   "source": [
    "### Register jupyter magics for AMPL"
   ]
  },
  {
   "cell_type": "code",
   "execution_count": null,
   "metadata": {},
   "outputs": [],
   "source": [
    "from amplpy import register_magics\r\n",
    "register_magics('_ampl_cells')  # Store %%ampl cells in the list _ampl_cells"
   ]
  },
  {
   "cell_type": "markdown",
   "metadata": {},
   "source": [
    "Define TSP model in AMPL"
   ]
  },
  {
   "cell_type": "code",
   "execution_count": null,
   "metadata": {},
   "outputs": [],
   "source": [
    "%%ampl\r\n",
    "set NODES ordered;\r\n",
    "param hpos {NODES} >= 0;\r\n",
    "param vpos {NODES} >= 0;\r\n",
    "\r\n",
    "set PAIRS := {i in NODES, j in NODES: ord(i) < ord(j)};\r\n",
    "\r\n",
    "param distance {(i,j) in PAIRS}\r\n",
    "   := sqrt((hpos[j]-hpos[i])**2 + (vpos[j]-vpos[i])**2);\r\n",
    "\r\n",
    "var X {PAIRS} binary;\r\n",
    "\r\n",
    "minimize Tour_Length: sum {(i,j) in PAIRS} distance[i,j] * X[i,j];\r\n",
    "\r\n",
    "subject to Visit_All {i in NODES}:\r\n",
    "   sum {(i,j) in PAIRS} X[i,j] + sum {(j,i) in PAIRS} X[j,i] = 2;"
   ]
  },
  {
   "cell_type": "markdown",
   "metadata": {},
   "source": [
    "AMPL data for TSP"
   ]
  },
  {
   "cell_type": "code",
   "execution_count": null,
   "metadata": {},
   "outputs": [],
   "source": [
    "%%ampl\r\n",
    "data; \r\n",
    "param: NODES: hpos vpos :=\r\n",
    "    N01  0 0\r\n",
    "    N02  0 1\r\n",
    "    N03  0 2\r\n",
    "    N04  0 4\r\n",
    "    N05  1 2\r\n",
    "    N06  1 3\r\n",
    "    N07  2 0\r\n",
    "    N08  2 4\r\n",
    "    N09  3 4\r\n",
    "    N10  4 4\r\n",
    "    N11  5 0\r\n",
    "    N12  6 1\r\n",
    "    N13  7 2\r\n",
    "    N14  7 4\r\n",
    "    N15  4 2\r\n",
    "    N16  8 3\r\n",
    "    N17  8 4;"
   ]
  },
  {
   "cell_type": "markdown",
   "metadata": {},
   "source": [
    "Create AMPL object with amplpy and load model and data"
   ]
  },
  {
   "cell_type": "code",
   "execution_count": null,
   "metadata": {},
   "outputs": [],
   "source": [
    "tspAMPLModel = _ampl_cells[0]\r\n",
    "tspAMPLData = _ampl_cells[1]\r\n",
    "solver = \"gurobi\"\r\n",
    "ampl = AMPL()\r\n",
    "ampl.eval(tspAMPLModel)\r\n",
    "ampl.eval(tspAMPLData)\r\n",
    "ampl.option[\"solver\"]=solver\r\n",
    "\r\n",
    "# Set some globals that never change during the execution of the problem\r\n",
    "NODES = set(ampl.getData(\"NODES\").toList())\r\n",
    "POINTS = ampl.getData(\"hpos,vpos\").toList()\r\n",
    "CPOINTS = {node : complex(x, y) for (node, x, y) in POINTS}"
   ]
  },
  {
   "cell_type": "markdown",
   "metadata": {},
   "source": [
    "Define some helpers functions to plot the tours"
   ]
  },
  {
   "cell_type": "code",
   "execution_count": null,
   "metadata": {},
   "outputs": [],
   "source": [
    "import matplotlib.pyplot as plt\r\n",
    "import matplotlib.colors as colors\r\n",
    "\r\n",
    "def plotTours(tours : list, points_coordinate : dict):\r\n",
    "    # Plot all the tours in the list each with a different color\r\n",
    "    colors = ['b', 'g', 'c', 'm', 'y', 'k']\r\n",
    "    for i, tour in enumerate(tours):\r\n",
    "      tourCoordinates = [points_coordinate[point.strip(\"'\")] for point in tour]\r\n",
    "      color = colors[i % len(colors)]\r\n",
    "      plot_all(tourCoordinates, color = color)\r\n",
    "    plt.show()\r\n",
    "\r\n",
    "def plot_all(tour, alpha=1, color=None):\r\n",
    "    # Plot the tour as blue lines between blue circles\r\n",
    "    plotline(list(tour) + [tour[0]], alpha=alpha, color=color)\r\n",
    "    plotline([tour[0]], 's', alpha=alpha, color=color)\r\n",
    "    \r\n",
    "def plotline(points, style='o-', alpha=1, color=None):\r\n",
    "    \"Plot a list of points (complex numbers) in the 2-D plane.\"\r\n",
    "    X, Y = XY(points)\r\n",
    "    if color:\r\n",
    "        plt.plot(X, Y, style, alpha=alpha, color=color)\r\n",
    "    else:\r\n",
    "        plt.plot(X, Y, style, alpha=alpha)\r\n",
    "    \r\n",
    "def XY(points):\r\n",
    "    \"Given a list of points, return two lists: X coordinates, and Y coordinates.\"\r\n",
    "    return [p.real for p in points], [p.imag for p in points]"
   ]
  },
  {
   "cell_type": "markdown",
   "metadata": {},
   "source": [
    "Define some helper functions to help with the graphs (e.g. get the subtour given a set of arcs)"
   ]
  },
  {
   "cell_type": "code",
   "execution_count": null,
   "metadata": {},
   "outputs": [],
   "source": [
    "\r\n",
    "\r\n",
    "# Graphs helper routines\r\n",
    "def trasverse(node, arcs : set, allnodes : set, subtour = None) -> list:\r\n",
    "   # Trasverses all the arcs in the set arcs, starting from node\r\n",
    "   # and returns the tour\r\n",
    "   if not subtour:\r\n",
    "     subtour = list()\r\n",
    "   # Find arcs involving the current node\r\n",
    "   myarcs = [(i,j) for (i,j) in arcs if node == i or node == j]\r\n",
    "   if len(myarcs) == 0:\r\n",
    "     return \r\n",
    "   # Append the current node to the current subtour\r\n",
    "   subtour.append(node)\r\n",
    "\r\n",
    "   # Use the first arc found\r\n",
    "   myarc = myarcs[0]\r\n",
    "   # Find destination (or origin) node\r\n",
    "   destination = [(i) for i in myarc if i != node][0]\r\n",
    "   # Remove from arcs and nodes to visit\r\n",
    "   arcs.remove(myarc)\r\n",
    "   allnodes.remove(node)\r\n",
    "\r\n",
    "   trasverse(destination, arcs, allnodes, subtour)\r\n",
    "   return subtour\r\n",
    "\r\n",
    "\r\n",
    "def findSubTours(arcs : set, allnodes : set):\r\n",
    "   \"\"\"Find all the subtours defined by a set of arcs and\r\n",
    "      return them as a list of list\r\n",
    "   \"\"\"\r\n",
    "   subtours = list()\r\n",
    "   while len(allnodes) > 0:\r\n",
    "     l = trasverse(next(iter(allnodes)), arcs, allnodes)\r\n",
    "     subtours.append(l)\r\n",
    "   return subtours"
   ]
  },
  {
   "cell_type": "markdown",
   "metadata": {},
   "source": [
    "AMPLPY implementation of sub-tours elimination"
   ]
  },
  {
   "cell_type": "code",
   "execution_count": null,
   "metadata": {},
   "outputs": [],
   "source": [
    "def amplSubTourElimination(ampl : AMPL):\r\n",
    "  # Add the constraint and the needed parameters\r\n",
    "  subToursAMPL = \"\"\"param nSubtours >= 0 integer, default 0;\r\n",
    "  set SUB {1..nSubtours} within NODES;\r\n",
    "\r\n",
    "  subject to Subtour_Elimination {k in 1..nSubtours}:\r\n",
    "  sum {i in SUB[k], j in NODES diff SUB[k]} \r\n",
    "  if (i,j) in PAIRS then X[i,j] else X[j,i] >= 2;\"\"\"\r\n",
    "  ampl.eval(subToursAMPL)\r\n",
    "\r\n",
    "  AMPLnSubtours = ampl.getParameter(\"nSubtours\")\r\n",
    "  AMPLSubtours = ampl.getSet(\"SUB\")\r\n",
    "\r\n",
    "  allsubtours = list()\r\n",
    "  \r\n",
    "  while True: # Repeat until the solution contains only one tour\r\n",
    "    ampl.solve()\r\n",
    "    # Get solution\r\n",
    "    ARCS = ampl.getData(\"{(i,j) in PAIRS : X[i,j]>0} X[i,j];\")\r\n",
    "    ARCS = set([(i,j) for (i,j,k)in ARCS.toList()])\r\n",
    "    nodes = NODES.copy()\r\n",
    "    subtours = findSubTours(ARCS, nodes)\r\n",
    "    # If we have only one tour, the solution is valid\r\n",
    "    if len(subtours) <= 1:\r\n",
    "      break\r\n",
    "    print(f\"Found {len(subtours)} subtours, plotting them and adding cuts\")\r\n",
    "    plotTours(subtours, CPOINTS)\r\n",
    "    # Else add the current tours to the list of subtours\r\n",
    "    allsubtours.extend(subtours)\r\n",
    "    # And add those to the constraints by assigning the values to\r\n",
    "    # the parameter and the set\r\n",
    "    AMPLnSubtours.set(len(allsubtours))\r\n",
    "    for (i, tour) in enumerate(allsubtours):\r\n",
    "      AMPLSubtours[i+1].setValues(tour)"
   ]
  },
  {
   "cell_type": "markdown",
   "metadata": {},
   "source": [
    "ampls callbacks implementation of subtours elimination"
   ]
  },
  {
   "cell_type": "code",
   "execution_count": null,
   "metadata": {},
   "outputs": [],
   "source": [
    "# Callback class that actually add the cuts if subtours are found in a solution\r\n",
    "class MyCallback(ampls.GenericCallback):\r\n",
    "   def run(self):\r\n",
    "     try:\r\n",
    "        # For each solution\r\n",
    "        if self.getAMPLWhere() == ampls.Where.MIPSOL:\r\n",
    "          print(\"Found one solution\")\r\n",
    "          sol = self.getSolutionVector()\r\n",
    "          arcs = [xvars[i] for i,value in enumerate(sol) if value > 0]\r\n",
    "          subTours = findSubTours(set(arcs), set(vertices))\r\n",
    "          if len(subTours) ==1:\r\n",
    "            print(\"No subtours detected. Ending optimization.\")\r\n",
    "            return 0\r\n",
    "          print(f\"Found {len(subTours)} subtours, plotting them and adding cuts\")\r\n",
    "          plotTours(subTours, CPOINTS)\r\n",
    "          for subTour in subTours:\r\n",
    "            st1 = set(subTour)\r\n",
    "            nst1 = set(vertices) - st1\r\n",
    "            externalArcs = [(i,j) if i < j else (j,i) for i in st1 for j in nst1]\r\n",
    "            varsExternalArcs = [xinverse[(i,j)] for (i,j) in externalArcs]\r\n",
    "            coeffs = [1 for i in range(len(varsExternalArcs))]\r\n",
    "            varsExternalArcs = sorted(varsExternalArcs)\r\n",
    "            print(\"Adding cut for subtour\")\r\n",
    "            self.addLazyIndices(varsExternalArcs , coeffs,\r\n",
    "                                  ampls.CutDirection.GE, 2)\r\n",
    "            if len(subTours) == 2: # do not add the second subtour if we have only 2\r\n",
    "              return 0\r\n",
    "        return 0\r\n",
    "     except Exception as e:\r\n",
    "       print('Error:', e)\r\n",
    "       return 1\r\n"
   ]
  },
  {
   "cell_type": "code",
   "execution_count": null,
   "metadata": {},
   "outputs": [],
   "source": [
    "\r\n",
    "# Global variables to store entities needed by the callbacks\r\n",
    "# that never change\r\n",
    "xvars = None\r\n",
    "xinverse = None\r\n",
    "vertices = None\r\n",
    "def solverSubTourElimination(ampl : AMPL, solver):\r\n",
    "  global xvars, xinverse, vertices\r\n",
    "  # Export the model using ampls\r\n",
    "  model = ampl.exportModel(solver)\r\n",
    "  model.enableLazyConstraints()\r\n",
    "\r\n",
    "  # Get the global maps between solver vars and AMPL entities\r\n",
    "  varMap = model.getVarMapFiltered(\"X\")\r\n",
    "  inverse = model.getVarMapInverse()\r\n",
    "  xvars = {\r\n",
    "    index: var2tuple(var)[1:] for var, index in varMap.items()}\r\n",
    "  xinverse = {\r\n",
    "    var2tuple(var)[1:] : index for index, var in inverse.items()}\r\n",
    "  vertices = list(sorted(set([x[0] for x in xvars.values()] + [x[1] for x in xvars.values()])))\r\n",
    "\r\n",
    "  # Assign the callback\r\n",
    "  callback = MyCallback()\r\n",
    "  model.setCallback(callback)\r\n",
    "  print(\"Start optimization\")\r\n",
    "  # Start the optimization\r\n",
    "  model.optimize()\r\n",
    "  # Import the solution back to AMPL\r\n",
    "  ampl.importSolution(model)"
   ]
  },
  {
   "cell_type": "markdown",
   "metadata": {},
   "source": [
    "Script running the optimization"
   ]
  },
  {
   "cell_type": "code",
   "execution_count": null,
   "metadata": {},
   "outputs": [],
   "source": [
    "# Set to true to use AMPL, False to use solver callbacks\r\n",
    "doAMPL = False\r\n",
    "if doAMPL:\r\n",
    "  amplSubTourElimination(ampl)\r\n",
    "else:\r\n",
    "  solverSubTourElimination(ampl, solver)"
   ]
  },
  {
   "cell_type": "markdown",
   "metadata": {},
   "source": [
    "Get the solution, print it and display it"
   ]
  },
  {
   "cell_type": "code",
   "execution_count": null,
   "metadata": {},
   "outputs": [],
   "source": [
    "# Get the solution into ARCS\r\n",
    "ARCS = ampl.getData(\"{(i,j) in PAIRS : X[i,j]>0} X[i,j];\")\r\n",
    "ARCS = set([(i,j) for (i,j,k)in ARCS.toList()])\r\n",
    "# Print it\r\n",
    "print(NODES)\r\n",
    "print(ARCS)\r\n",
    "# Display it\r\n",
    "tours = findSubTours(ARCS, NODES)\r\n",
    "print(\"Calling plottours\")\r\n",
    "plotTours(tours, CPOINTS)"
   ]
  },
  {
   "cell_type": "code",
   "execution_count": null,
   "metadata": {},
   "outputs": [],
   "source": [
    "print(NODES)\r\n"
   ]
  }
 ],
 "metadata": {
  "language_info": {
   "name": "python",
   "nbconvert_exporter": "python"
  },
  "orig_nbformat": 4
 },
 "nbformat": 4,
 "nbformat_minor": 2
}