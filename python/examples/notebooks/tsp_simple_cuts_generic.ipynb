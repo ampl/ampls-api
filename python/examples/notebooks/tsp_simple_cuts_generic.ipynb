{
  "cells": [
    {
      "cell_type": "markdown",
      "metadata": {
        "id": "ml63EYqsH1Wm"
      },
      "source": [
        "# Travelling Salesman Problem with subtour elimination\n",
        "\n",
        "[![Open In Colab](https://colab.research.google.com/assets/colab-badge.svg)](https://colab.research.google.com/github/ampl/ampls-api/blob/master/python/examples/notebooks/tsp_simple_cuts_generic.ipynb)\n",
        "\n",
        "[![Kaggle](https://kaggle.com/static/images/open-in-kaggle.svg)](https://kaggle.com/kernels/welcome?src=https://github.com/ampl/ampls-api/blob/master/python/examples/notebooks/tsp_simple_cuts_generic.ipynb)\n",
        "\n",
        "Notebook on GitHub: https://github.com/ampl/ampls-api/blob/master/python/examples/notebooks/tsp_simple_cuts_generic.ipynb\n",
        "\n",
        "This example shows how to solve a TSP  by eliminating subtours using:\n",
        "\n",
        "1. amplpy (defining the subtour elimination constraint in AMPL and instantiating it appropriately)\n",
        "2. ampls (adding cuts directly from the solver callback)"
      ]
    },
    {
      "cell_type": "markdown",
      "metadata": {
        "id": "vboFhQJeH1Wp"
      },
      "source": [
        "### Options"
      ]
    },
    {
      "cell_type": "code",
      "execution_count": null,
      "metadata": {
        "id": "mSSSdNrtJbM7"
      },
      "outputs": [],
      "source": [
        "!test -d ampls-api || test -d ../tsp/ || git clone https://github.com/ampl/ampls-api.git"
      ]
    },
    {
      "cell_type": "code",
      "execution_count": null,
      "metadata": {
        "id": "wUZaMvbmH1Wq"
      },
      "outputs": [],
      "source": [
        "import os\n",
        "if os.path.isdir('ampls-api'):\n",
        "    os.chdir('ampls-api/python/examples/notebooks/')\n",
        "SOLVER = \"gurobi\"\n",
        "SOLVER_OPTIONS = ['outlev=1']\n",
        "USE_CALLBAKCS = True\n",
        "PLOTSUBTOURS = True\n",
        "TSP_FILE = \"../tsp/a280.tsp\""
      ]
    },
    {
      "cell_type": "markdown",
      "metadata": {
        "id": "4CXJ2WOjIG8d"
      },
      "source": [
        "### Setup"
      ]
    },
    {
      "cell_type": "code",
      "execution_count": null,
      "metadata": {
        "id": "trjfgOGlIJ2X"
      },
      "outputs": [],
      "source": [
        "!pip install -q amplpy ampltools amplpy-gurobi amplpy-cplex\n",
        "!pip install -q tsplib95 matplotlib"
      ]
    },
    {
      "cell_type": "markdown",
      "metadata": {
        "id": "jBkE588kIrZT"
      },
      "source": [
        "### Google Colab & Kaggle interagration"
      ]
    },
    {
      "cell_type": "code",
      "execution_count": null,
      "metadata": {
        "id": "TbzyEByrIkYj"
      },
      "outputs": [],
      "source": [
        "import os\n",
        "RUNNING_IN_GOOGLE_COLAB = 'COLAB_GPU' in os.environ\n",
        "RUNNING_IN_KAGGLE = os.path.abspath(os.curdir).startswith('/kaggle/')\n",
        "RUNNING_IN_THE_CLOUD = RUNNING_IN_GOOGLE_COLAB or RUNNING_IN_KAGGLE"
      ]
    },
    {
      "cell_type": "code",
      "execution_count": null,
      "metadata": {
        "colab": {
          "base_uri": "https://localhost:8080/"
        },
        "id": "oMv3MgLPIy2t",
        "outputId": "27a40b51-50a3-47c1-f1a5-a40f76c94876"
      },
      "outputs": [],
      "source": [
        "# If you have an AMPL Cloud License or an AMPL CE license, you can use it on Google Colab and similar platforms.\n",
        "# Note: Your license UUID should never be shared. Please make sure you delete the license UUID\n",
        "# and rerun this cell before sharing the notebook with anyone.\n",
        "LICENSE_UUID = None\n",
        "# You can install individual modules from https://portal.ampl.com/dl/modules/\n",
        "MODULES = ['ampl', 'coin', SOLVER]\n",
        "# Set to True in order to install AMPL only once \n",
        "RUN_ONCE = True\n",
        "if RUNNING_IN_THE_CLOUD:\n",
        "    from ampltools import ampl_installer\n",
        "    ampl_dir = os.path.abspath(os.path.join(os.curdir, 'ampl.linux-intel64'))\n",
        "    ampl_installer(ampl_dir, modules=MODULES, license_uuid=LICENSE_UUID, run_once=RUN_ONCE, verbose=True)\n",
        "    os.environ['PATH'] += os.pathsep + ampl_dir"
      ]
    },
    {
      "cell_type": "markdown",
      "metadata": {
        "id": "5giZKAYQH1Wr"
      },
      "source": [
        "### Imports"
      ]
    },
    {
      "cell_type": "code",
      "execution_count": null,
      "metadata": {
        "id": "Vwti7J3zH1Wr"
      },
      "outputs": [],
      "source": [
        "# Import utilities\n",
        "from amplpy import AMPL, DataFrame  # pip install amplpy\n",
        "if SOLVER == \"gurobi\":\n",
        "    import amplpy_gurobi as ampls   # pip install amplpy-gurobi\n",
        "elif SOLVER == \"cplex\":\n",
        "    import amplpy_cplex as ampls    # pip install amplpy-cplex\n",
        "elif SOLVER == \"xpress\":\n",
        "    import amplpy_xpress as ampls   # pip install amplpy-gurobi\n",
        "import tsplib95 as tsp              # pip install tsplib95\n",
        "import matplotlib.pyplot as plt     # pip install matplotlib\n",
        "import matplotlib.colors as colors\n",
        "from time import time\n",
        "plt.rcParams['figure.dpi'] = 200"
      ]
    },
    {
      "cell_type": "markdown",
      "metadata": {
        "id": "Rz4FxtInH1Ws"
      },
      "source": [
        "### Register jupyter magics for AMPL"
      ]
    },
    {
      "cell_type": "code",
      "execution_count": null,
      "metadata": {
        "id": "4gCcdyiVH1Wt"
      },
      "outputs": [],
      "source": [
        "from amplpy import register_magics\n",
        "register_magics('_ampl_cells')  # Store %%ampl cells in the list _ampl_cells"
      ]
    },
    {
      "cell_type": "markdown",
      "metadata": {
        "id": "ow4PJoZ1H1Wt"
      },
      "source": [
        "### Define TSP model in AMPL"
      ]
    },
    {
      "cell_type": "code",
      "execution_count": null,
      "metadata": {
        "id": "b75aDn-GH1Wu"
      },
      "outputs": [],
      "source": [
        "%%ampl\n",
        "set NODES ordered;\n",
        "param hpos {NODES};\n",
        "param vpos {NODES};\n",
        "\n",
        "set PAIRS := {i in NODES, j in NODES: ord(i) < ord(j)};\n",
        "\n",
        "param distance {(i,j) in PAIRS}\n",
        "   := sqrt((hpos[j]-hpos[i])**2 + (vpos[j]-vpos[i])**2);\n",
        "#var Length;\n",
        "var X {PAIRS} binary;\n",
        "\n",
        "minimize Tour_Length: sum {(i,j) in PAIRS} distance[i,j] * X[i,j];\n",
        "\n",
        "#Length_def : Length = \n",
        "subject to Visit_All {i in NODES}:\n",
        "   sum {(i, j) in PAIRS} X[i,j] + sum {(j, i) in PAIRS} X[j,i] = 2;"
      ]
    },
    {
      "cell_type": "markdown",
      "metadata": {
        "id": "CbPNE25vH1Wu"
      },
      "source": [
        "Function to load TSP data files and return a dictionary of (nodeid : coordinate)"
      ]
    },
    {
      "cell_type": "code",
      "execution_count": null,
      "metadata": {
        "id": "5zqzrGnDH1Wv"
      },
      "outputs": [],
      "source": [
        "def getDictFromTspFile(tspFile):\n",
        "    p = tsp.load(tspFile)\n",
        "    if not p.is_depictable:\n",
        "        print(\"Problem is not depictable!\")\n",
        "\n",
        "    # Amendments as we need the nodes lexographically ordered\n",
        "    nnodes = len(list(p.get_nodes()))\n",
        "    i = 0\n",
        "    while nnodes>1:\n",
        "        nnodes = nnodes/10\n",
        "        i+=1\n",
        "    formatString = f\"{{:0{i}d}}\"\n",
        "    nodes = {formatString.format(value) : p.node_coords[index+1] for index, value in enumerate(p.get_nodes())}\n",
        "    return nodes"
      ]
    },
    {
      "cell_type": "markdown",
      "metadata": {
        "id": "TYs_8Q2FH1Wv"
      },
      "source": [
        "Create AMPL object with amplpy and load model and data"
      ]
    },
    {
      "cell_type": "code",
      "execution_count": null,
      "metadata": {
        "id": "WhP5vY6EH1Ww"
      },
      "outputs": [],
      "source": [
        "# Get the model from the cell above\n",
        "tsp_model = _ampl_cells[0]\n",
        "\n",
        "# Load model in AMPL\n",
        "ampl = AMPL()\n",
        "ampl.eval(tsp_model)\n",
        "ampl.option[\"solver\"] = SOLVER\n",
        "ampl.option[SOLVER + \"_options\"] = ' '.join(SOLVER_OPTIONS)\n",
        "\n",
        "# Set problem data from tsp file\n",
        "nodes = getDictFromTspFile(TSP_FILE)\n",
        "\n",
        "# Pass them to AMPL using a dataframe\n",
        "df = DataFrame(index=[('NODES')], columns=['hpos', 'vpos'])\n",
        "df.setValues(nodes)\n",
        "ampl.setData(df, \"NODES\")\n",
        "\n",
        "# Set some globals that never change during the execution of the problem\n",
        "NODES = set(nodes.keys())\n",
        "CPOINTS = {node : complex(coordinate[0], coordinate[1]) for (node, coordinate) in nodes.items()}"
      ]
    },
    {
      "cell_type": "markdown",
      "metadata": {
        "id": "gb2V0lEvH1Ww"
      },
      "source": [
        "Define some helpers functions to plot the tours"
      ]
    },
    {
      "cell_type": "code",
      "execution_count": null,
      "metadata": {
        "id": "oee5LJWtH1Ww"
      },
      "outputs": [],
      "source": [
        "def plotTours(tours: list, points_coordinate: dict):\n",
        "    # Plot all the tours in the list each with a different color\n",
        "    colors = ['b', 'g', 'c', 'm', 'y', 'k']\n",
        "    for i, tour in enumerate(tours):\n",
        "        tourCoordinates = [points_coordinate[point.strip(\"'\")] for point in tour]\n",
        "        color = colors[i % len(colors)]\n",
        "        plot_all(tourCoordinates, color = color)\n",
        "    plt.show()\n",
        "\n",
        "def plot_all(tour, alpha=1, color=None):\n",
        "    # Plot the tour as blue lines between blue circles\n",
        "    plotline(list(tour) + [tour[0]], alpha=alpha, color=color)\n",
        "    plotline([tour[0]], 's', alpha=alpha, color=color)\n",
        "    \n",
        "def plotline(points, style='o-', alpha=1, color=None):\n",
        "    \"Plot a list of points (complex numbers) in the 2-D plane.\"\n",
        "    X, Y = XY(points)\n",
        "    if color:\n",
        "        plt.plot(X, Y, style, alpha=alpha, color=color)\n",
        "    else:\n",
        "        plt.plot(X, Y, style, alpha=alpha)\n",
        "    \n",
        "def XY(points):\n",
        "    \"Given a list of points, return two lists: X coordinates, and Y coordinates.\"\n",
        "    return [p.real for p in points], [p.imag for p in points]"
      ]
    },
    {
      "cell_type": "markdown",
      "metadata": {
        "id": "9JyfIfqfH1Wx"
      },
      "source": [
        "Define some helper functions to help with the graphs (e.g. get the subtour given a set of arcs)"
      ]
    },
    {
      "cell_type": "code",
      "execution_count": null,
      "metadata": {
        "id": "1JmTrlTlH1Wx"
      },
      "outputs": [],
      "source": [
        "# Graphs helper routines\n",
        "def trasverse(node, arcs: set, allnodes: set, subtour = None) -> list:\n",
        "    # Trasverses all the arcs in the set arcs, starting from node\n",
        "    # and returns the tour\n",
        "    if not subtour:\n",
        "        subtour = list()\n",
        "    # Find arcs involving the current node\n",
        "    myarcs = [(i,j) for (i,j) in arcs if node == i or node == j]\n",
        "    if len(myarcs) == 0:\n",
        "        return \n",
        "    # Append the current node to the current subtour\n",
        "    subtour.append(node)\n",
        "\n",
        "    # Use the first arc found\n",
        "    myarc = myarcs[0]\n",
        "    # Find destination (or origin) node\n",
        "    destination = next(i for i in myarc if i != node)\n",
        "    # Remove from arcs and nodes to visit\n",
        "    arcs.remove(myarc)\n",
        "    if node in allnodes:\n",
        "        allnodes.remove(node)\n",
        "\n",
        "    trasverse(destination, arcs, allnodes, subtour)\n",
        "    return subtour\n",
        "\n",
        "\n",
        "def findSubTours(arcs: set, allnodes: set):\n",
        "    \"\"\"Find all the subtours defined by a set of arcs and\n",
        "       return them as a list of list\n",
        "    \"\"\"\n",
        "    subtours = list()\n",
        "    allnodes = allnodes.copy()\n",
        "    while len(allnodes) > 0:\n",
        "        l = trasverse(next(iter(allnodes)), arcs, allnodes)\n",
        "        subtours.append(l)\n",
        "    return subtours"
      ]
    },
    {
      "cell_type": "markdown",
      "metadata": {
        "id": "tSGchqffH1Wy"
      },
      "source": [
        "AMPLPY implementation of sub-tours elimination"
      ]
    },
    {
      "cell_type": "code",
      "execution_count": null,
      "metadata": {
        "id": "UEm5pZlpH1Wy"
      },
      "outputs": [],
      "source": [
        "def amplSubTourElimination(ampl: AMPL):\n",
        "    # Add the constraint and the needed parameters\n",
        "    subToursAMPL = \"\"\"param nSubtours >= 0 integer, default 0;\n",
        "    set SUB {1..nSubtours} within NODES;\n",
        "\n",
        "    subject to Subtour_Elimination {k in 1..nSubtours}:\n",
        "    sum {i in SUB[k], j in NODES diff SUB[k]} \n",
        "    if (i, j) in PAIRS then X[i, j] else X[j, i] >= 2;\"\"\"\n",
        "    ampl.eval(subToursAMPL)\n",
        "\n",
        "    nSubtoursParam = ampl.getParameter(\"nSubtours\")\n",
        "    SubtoursSet = ampl.getSet(\"SUB\")\n",
        "\n",
        "    allsubtours = list()\n",
        "    while True: # Repeat until the solution contains only one tour\n",
        "        ampl.solve()\n",
        "        # Get solution\n",
        "        ARCS = ampl.getData(\"{(i,j) in PAIRS : X[i,j] > 0} X[i,j];\")\n",
        "        ARCS = set([(i, j) for (i, j, k)in ARCS.toList()])\n",
        "        subtours = findSubTours(ARCS, NODES)\n",
        "        # If we have only one tour, the solution is valid\n",
        "        if len(subtours) <= 1:\n",
        "            break\n",
        "        print(f\"Found {len(subtours)} subtours, plotting them and adding cuts\")\n",
        "        if PLOTSUBTOURS:\n",
        "            plotTours(subtours, CPOINTS)\n",
        "        # Else add the current tours to the list of subtours\n",
        "        allsubtours.extend(subtours)\n",
        "        # And add those to the constraints by assigning the values to\n",
        "        # the parameter and the set\n",
        "        nSubtoursParam.set(len(allsubtours))\n",
        "        for (i, tour) in enumerate(allsubtours):\n",
        "            SubtoursSet[i+1].setValues(tour)"
      ]
    },
    {
      "cell_type": "markdown",
      "metadata": {
        "id": "YJcpQoYYH1Wy"
      },
      "source": [
        "ampls callbacks implementation of subtours elimination"
      ]
    },
    {
      "cell_type": "code",
      "execution_count": null,
      "metadata": {
        "id": "jGqP7dVbH1Wy"
      },
      "outputs": [],
      "source": [
        "# Callback class that actually add the cuts if subtours are found in a solution\n",
        "class MyCallback(ampls.GenericCallback):\n",
        "    def __init__(self): \n",
        "        # Constructor, simply sets the iteration number to 0\n",
        "        super().__init__()\n",
        "        self.iteration = 0 \n",
        "    def run(self):\n",
        "        try:\n",
        "            # For each solution\n",
        "            if self.getAMPLWhere() == ampls.Where.MIPSOL:\n",
        "                self.iteration += 1\n",
        "                print(f\"\\nIteration {self.iteration}: Finding subtours\")\n",
        "                sol = self.getSolutionVector()\n",
        "                arcs = [xvars[i] for i, value in enumerate(sol) if value > 0]\n",
        "                subTours = findSubTours(set(arcs), set(vertices))\n",
        "                if len(subTours) ==1:\n",
        "                    print(\"No subtours detected. Not adding any cut\")\n",
        "                    return 0\n",
        "                print(f\"Adding {len(subTours)} cuts\")\n",
        "                if PLOTSUBTOURS:\n",
        "                    plotTours(subTours, CPOINTS)\n",
        "                for subTour in subTours:\n",
        "                    st1 = set(subTour)\n",
        "                    nst1 = set(vertices) - st1\n",
        "                    externalArcs = [(i, j) if i < j else (j, i) for i in st1 for j in nst1]\n",
        "                    varsExternalArcs = [xinverse[i, j] for (i, j) in externalArcs]\n",
        "                    coeffs = [1 for i in range(len(varsExternalArcs))]\n",
        "                    if PLOTSUBTOURS:\n",
        "                        print(\"Adding cut for subtour:\", st1)\n",
        "                    self.addLazyIndices(varsExternalArcs, coeffs, ampls.CutDirection.GE, 2)\n",
        "                    if len(subTours) == 2:\n",
        "                        return 0\n",
        "                print(\"Continue solving\")\n",
        "            return 0\n",
        "        except Exception as e:\n",
        "            print('Error:', e)\n",
        "            return 1"
      ]
    },
    {
      "cell_type": "code",
      "execution_count": null,
      "metadata": {
        "id": "tf3Cb-kWH1Wz"
      },
      "outputs": [],
      "source": [
        "# Global variables to store entities needed by the callbacks\n",
        "# that never change\n",
        "xvars = None\n",
        "xinverse = None\n",
        "vertices = None\n",
        "def solverSubTourElimination(ampl: AMPL, solver, solver_options):\n",
        "    global xvars, xinverse, vertices\n",
        "    # Export the model using ampls\n",
        "    model = ampl.exportModel(solver, solver_options)\n",
        "    model.enableLazyConstraints()\n",
        "\n",
        "    # Get the global maps between solver vars and AMPL entities\n",
        "    varMap = model.getVarMapFiltered(\"X\")\n",
        "    #print(\"varMap:\", varMap)\n",
        "    #inverse = model.getVarMapInverse()\n",
        "    inverse = {v : k for k, v in varMap.items()}\n",
        "    xvars = {index: ampls.var2tuple(var)[1:] for var, index in varMap.items()}\n",
        "    xinverse = {ampls.var2tuple(var)[1:]: index for index, var in inverse.items()}\n",
        "    vertices = list(sorted(set([x[0] for x in xvars.values()] + [x[1] for x in xvars.values()])))\n",
        "    \n",
        "    \n",
        "    # Assign the callback\n",
        "    callback = MyCallback()\n",
        "    model.setCallback(callback)\n",
        "    print(\"Start optimization\")\n",
        "    # Start the optimization\n",
        "    model.optimize()\n",
        "    # Import the solution back to AMPL\n",
        "    ampl.importSolution(model)"
      ]
    },
    {
      "cell_type": "markdown",
      "metadata": {
        "id": "lM5SmkA_H1Wz"
      },
      "source": [
        "Script running the optimization"
      ]
    },
    {
      "cell_type": "code",
      "execution_count": null,
      "metadata": {
        "colab": {
          "base_uri": "https://localhost:8080/",
          "height": 1000
        },
        "id": "MEWiygtlH1Wz",
        "outputId": "34656414-8af0-4258-8132-3885e1311e60",
        "scrolled": false
      },
      "outputs": [],
      "source": [
        "t0 = time()\n",
        "if not USE_CALLBAKCS:\n",
        "    amplSubTourElimination(ampl)\n",
        "else:\n",
        "    solverSubTourElimination(ampl, SOLVER, SOLVER_OPTIONS)"
      ]
    },
    {
      "cell_type": "markdown",
      "metadata": {
        "id": "-BYC4zqlH1Wz"
      },
      "source": [
        "Get the solution, print it and display it"
      ]
    },
    {
      "cell_type": "code",
      "execution_count": null,
      "metadata": {
        "colab": {
          "base_uri": "https://localhost:8080/",
          "height": 745
        },
        "id": "h9XdSvs4H1W0",
        "outputId": "828bbede-b703-4998-aba2-81479bc2258c",
        "scrolled": true
      },
      "outputs": [],
      "source": [
        "# Get the solution into ARCS\n",
        "ARCS = ampl.getData(\"{(i,j) in PAIRS : X[i,j] > 0} X[i,j];\")\n",
        "ARCS = set([(i,j) for (i,j,k) in ARCS.toList()])\n",
        "\n",
        "# Display it\n",
        "tours = findSubTours(ARCS, NODES)\n",
        "for st in tours:\n",
        "    print(st)\n",
        "plotTours(tours, CPOINTS)"
      ]
    },
    {
      "cell_type": "code",
      "execution_count": null,
      "metadata": {
        "colab": {
          "base_uri": "https://localhost:8080/"
        },
        "id": "VqhBM-MMH1W0",
        "outputId": "5085a957-e770-4365-8531-bc3a9cd506f4"
      },
      "outputs": [],
      "source": [
        "ampl.getValue('Tour_Length')"
      ]
    },
    {
      "cell_type": "code",
      "execution_count": null,
      "metadata": {
        "colab": {
          "base_uri": "https://localhost:8080/"
        },
        "id": "j3Bqcu0KH1W0",
        "outputId": "f9a6347c-1211-43ee-9148-1aa5941682e7"
      },
      "outputs": [],
      "source": [
        "time()-t0"
      ]
    }
  ],
  "metadata": {
    "colab": {
      "name": "tsp_simple_cuts_generic.ipynb",
      "provenance": []
    },
    "kernelspec": {
      "display_name": "Python 3.9.13 64-bit",
      "language": "python",
      "name": "python3"
    },
    "language_info": {
      "codemirror_mode": {
        "name": "ipython",
        "version": 3
      },
      "file_extension": ".py",
      "mimetype": "text/x-python",
      "name": "python",
      "nbconvert_exporter": "python",
      "pygments_lexer": "ipython3",
      "version": "3.9.13"
    },
    "vscode": {
      "interpreter": {
        "hash": "81794d4967e6c3204c66dcd87b604927b115b27c00565d3d43f05ba2f3a2cb0d"
      }
    }
  },
  "nbformat": 4,
  "nbformat_minor": 0
}
