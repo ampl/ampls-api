{
 "cells": [
  {
   "cell_type": "markdown",
   "source": [
    "# Travelling Salesman Problem with subtour elimination\n",
    "This example shows how to solve a TSP  by eliminating subtours using:\n",
    "1) amplpy (defining the subtour elimination constraint in AMPL and instantiating it appropriately)\n",
    "2) ampls (adding cuts directly from the solver callback)"
   ],
   "metadata": {}
  },
  {
   "cell_type": "code",
   "execution_count": null,
   "source": [
    "# Add library location to system path\r\n",
    "# This is only necessary when using a non-distributed version of amplpy_gurobi\r\n",
    "from sys import path\r\n",
    "path.append(\"d:/development/ampl/solvers-private/build/vs64/bin\")\r\n"
   ],
   "outputs": [],
   "metadata": {}
  },
  {
   "cell_type": "code",
   "execution_count": null,
   "source": [
    "# Import utilities\r\n",
    "from amplpy import AMPL, DataFrame          # pip install amplpy\r\n",
    "import amplpy_gurobi as ampls    # pip install ampls-gurobi\r\n",
    "import tsplib95 as tsp           # pip install tsplib95\r\n",
    "import matplotlib.pyplot as plt  # pip install matplotlib\r\n",
    "import matplotlib.colors as colors"
   ],
   "outputs": [],
   "metadata": {}
  },
  {
   "cell_type": "markdown",
   "source": [
    "### Register jupyter magics for AMPL"
   ],
   "metadata": {}
  },
  {
   "cell_type": "code",
   "execution_count": null,
   "source": [
    "from amplpy import register_magics\r\n",
    "register_magics('_ampl_cells')  # Store %%ampl cells in the list _ampl_cells"
   ],
   "outputs": [],
   "metadata": {}
  },
  {
   "cell_type": "markdown",
   "source": [
    "Execution parameters (problem params)"
   ],
   "metadata": {}
  },
  {
   "cell_type": "code",
   "execution_count": null,
   "source": [
    "PLOTSUBTOURS = True\r\n",
    "solver = \"gurobi\"\r\n",
    "tspFile = \"../tsp/ulysses22.tsp\""
   ],
   "outputs": [],
   "metadata": {}
  },
  {
   "cell_type": "markdown",
   "source": [
    "Define TSP model in AMPL"
   ],
   "metadata": {}
  },
  {
   "cell_type": "code",
   "execution_count": null,
   "source": [
    "%%ampl\r\n",
    "set NODES ordered;\r\n",
    "param hpos {NODES};\r\n",
    "param vpos {NODES};\r\n",
    "\r\n",
    "set PAIRS := {i in NODES, j in NODES: ord(i) < ord(j)};\r\n",
    "\r\n",
    "param distance {(i,j) in PAIRS}\r\n",
    "   := sqrt((hpos[j]-hpos[i])**2 + (vpos[j]-vpos[i])**2);\r\n",
    "\r\n",
    "var X {PAIRS} binary;\r\n",
    "\r\n",
    "minimize Tour_Length: sum {(i,j) in PAIRS} distance[i,j] * X[i,j];\r\n",
    "\r\n",
    "subject to Visit_All {i in NODES}:\r\n",
    "   sum {(i,j) in PAIRS} X[i,j] + sum {(j,i) in PAIRS} X[j,i] = 2;"
   ],
   "outputs": [],
   "metadata": {}
  },
  {
   "cell_type": "markdown",
   "source": [
    "Function to load TSP data files and return a dictionary of (nodeid : coordinate)"
   ],
   "metadata": {}
  },
  {
   "cell_type": "code",
   "execution_count": null,
   "source": [
    "def getDictFromTspFile(tspFile):\r\n",
    "  p = tsp.load(tspFile)\r\n",
    "  if not p.is_depictable:\r\n",
    "    printf(\"Problem is not depictable!\")\r\n",
    "\r\n",
    "  # Amendments as we need the nodes lexographically ordered\r\n",
    "  nnodes = len(list(p.get_nodes()))\r\n",
    "  i = 0\r\n",
    "  while nnodes>1:\r\n",
    "    nnodes = nnodes/10\r\n",
    "    i+=1\r\n",
    "  formatString = f\"{{:0{i}d}}\"\r\n",
    "  nodes = {formatString.format(value) : p.node_coords[index+1] for index, value in enumerate(p.get_nodes())}\r\n",
    "  return nodes"
   ],
   "outputs": [],
   "metadata": {}
  },
  {
   "cell_type": "markdown",
   "source": [
    "Create AMPL object with amplpy and load model and data"
   ],
   "metadata": {}
  },
  {
   "cell_type": "code",
   "execution_count": null,
   "source": [
    "# Get the model from the cell above\r\n",
    "tspAMPLModel = _ampl_cells[0]\r\n",
    "\r\n",
    "# Load model in AMPL\r\n",
    "ampl = AMPL()\r\n",
    "ampl.eval(tspAMPLModel)\r\n",
    "ampl.option[\"solver\"] = solver\r\n",
    "\r\n",
    "# Set problem data from tsp file\r\n",
    "nodes = getDictFromTspFile(tspFile)\r\n",
    "\r\n",
    "# Pass them to AMPL using a dataframe\r\n",
    "df = DataFrame(index=[('NODES')], columns=['hpos', 'vpos'])\r\n",
    "df.setValues(nodes)\r\n",
    "ampl.setData(df, \"NODES\")\r\n",
    "\r\n",
    "# Set some globals that never change during the execution of the problem\r\n",
    "NODES = set(nodes.keys())\r\n",
    "CPOINTS = {node : complex(coordinate[0], coordinate[1]) for (node, coordinate) in nodes.items()}"
   ],
   "outputs": [],
   "metadata": {}
  },
  {
   "cell_type": "markdown",
   "source": [
    "Define some helpers functions to plot the tours"
   ],
   "metadata": {}
  },
  {
   "cell_type": "code",
   "execution_count": null,
   "source": [
    "def plotTours(tours: list, points_coordinate: dict):\r\n",
    "    # Plot all the tours in the list each with a different color\r\n",
    "    colors = ['b', 'g', 'c', 'm', 'y', 'k']\r\n",
    "    for i, tour in enumerate(tours):\r\n",
    "        tourCoordinates = [points_coordinate[point.strip(\"'\")] for point in tour]\r\n",
    "        color = colors[i % len(colors)]\r\n",
    "        plot_all(tourCoordinates, color = color)\r\n",
    "    plt.show()\r\n",
    "\r\n",
    "def plot_all(tour, alpha=1, color=None):\r\n",
    "    # Plot the tour as blue lines between blue circles\r\n",
    "    plotline(list(tour) + [tour[0]], alpha=alpha, color=color)\r\n",
    "    plotline([tour[0]], 's', alpha=alpha, color=color)\r\n",
    "    \r\n",
    "def plotline(points, style='o-', alpha=1, color=None):\r\n",
    "    \"Plot a list of points (complex numbers) in the 2-D plane.\"\r\n",
    "    X, Y = XY(points)\r\n",
    "    if color:\r\n",
    "        plt.plot(X, Y, style, alpha=alpha, color=color)\r\n",
    "    else:\r\n",
    "        plt.plot(X, Y, style, alpha=alpha)\r\n",
    "    \r\n",
    "def XY(points):\r\n",
    "    \"Given a list of points, return two lists: X coordinates, and Y coordinates.\"\r\n",
    "    return [p.real for p in points], [p.imag for p in points]"
   ],
   "outputs": [],
   "metadata": {}
  },
  {
   "cell_type": "markdown",
   "source": [
    "Define some helper functions to help with the graphs (e.g. get the subtour given a set of arcs)"
   ],
   "metadata": {}
  },
  {
   "cell_type": "code",
   "execution_count": null,
   "source": [
    "# Graphs helper routines\r\n",
    "def trasverse(node, arcs: set, allnodes: set, subtour = None) -> list:\r\n",
    "    # Trasverses all the arcs in the set arcs, starting from node\r\n",
    "    # and returns the tour\r\n",
    "    if not subtour:\r\n",
    "        subtour = list()\r\n",
    "    # Find arcs involving the current node\r\n",
    "    myarcs = [(i,j) for (i,j) in arcs if node == i or node == j]\r\n",
    "    if len(myarcs) == 0:\r\n",
    "        return \r\n",
    "    # Append the current node to the current subtour\r\n",
    "    subtour.append(node)\r\n",
    "\r\n",
    "    # Use the first arc found\r\n",
    "    myarc = myarcs[0]\r\n",
    "    # Find destination (or origin) node\r\n",
    "    destination = [(i) for i in myarc if i != node][0]\r\n",
    "    # Remove from arcs and nodes to visit\r\n",
    "    arcs.remove(myarc)\r\n",
    "    if node in allnodes:\r\n",
    "        allnodes.remove(node)\r\n",
    "\r\n",
    "    trasverse(destination, arcs, allnodes, subtour)\r\n",
    "    return subtour\r\n",
    "\r\n",
    "\r\n",
    "def findSubTours(arcs: set, allnodes: set):\r\n",
    "    \"\"\"Find all the subtours defined by a set of arcs and\r\n",
    "       return them as a list of list\r\n",
    "    \"\"\"\r\n",
    "    subtours = list()\r\n",
    "    while len(allnodes) > 0:\r\n",
    "        l = trasverse(next(iter(allnodes)), arcs, allnodes)\r\n",
    "        subtours.append(l)\r\n",
    "    return subtours"
   ],
   "outputs": [],
   "metadata": {}
  },
  {
   "cell_type": "markdown",
   "source": [
    "AMPLPY implementation of sub-tours elimination"
   ],
   "metadata": {}
  },
  {
   "cell_type": "code",
   "execution_count": null,
   "source": [
    "def amplSubTourElimination(ampl: AMPL):\r\n",
    "    # Add the constraint and the needed parameters\r\n",
    "    subToursAMPL = \"\"\"param nSubtours >= 0 integer, default 0;\r\n",
    "    set SUB {1..nSubtours} within NODES;\r\n",
    "\r\n",
    "    subject to Subtour_Elimination {k in 1..nSubtours}:\r\n",
    "    sum {i in SUB[k], j in NODES diff SUB[k]} \r\n",
    "    if (i,j) in PAIRS then X[i,j] else X[j,i] >= 2;\"\"\"\r\n",
    "    ampl.eval(subToursAMPL)\r\n",
    "\r\n",
    "    AMPLnSubtours = ampl.getParameter(\"nSubtours\")\r\n",
    "    AMPLSubtours = ampl.getSet(\"SUB\")\r\n",
    "\r\n",
    "    allsubtours = list()\r\n",
    "    while True: # Repeat until the solution contains only one tour\r\n",
    "        ampl.solve()\r\n",
    "        # Get solution\r\n",
    "        ARCS = ampl.getData(\"{(i,j) in PAIRS : X[i,j]>0} X[i,j];\")\r\n",
    "        ARCS = set([(i,j) for (i,j,k)in ARCS.toList()])\r\n",
    "        nodes = NODES.copy()\r\n",
    "        subtours = findSubTours(ARCS, nodes)\r\n",
    "        # If we have only one tour, the solution is valid\r\n",
    "        if len(subtours) <= 1:\r\n",
    "            break\r\n",
    "        print(f\"Found {len(subtours)} subtours, plotting them and adding cuts\")\r\n",
    "        if PLOTSUBTOURS:\r\n",
    "            plotTours(subtours, CPOINTS)\r\n",
    "        # Else add the current tours to the list of subtours\r\n",
    "        allsubtours.extend(subtours)\r\n",
    "        # And add those to the constraints by assigning the values to\r\n",
    "        # the parameter and the set\r\n",
    "        AMPLnSubtours.set(len(allsubtours))\r\n",
    "        for (i, tour) in enumerate(allsubtours):\r\n",
    "            AMPLSubtours[i+1].setValues(tour)"
   ],
   "outputs": [],
   "metadata": {}
  },
  {
   "cell_type": "markdown",
   "source": [
    "ampls callbacks implementation of subtours elimination"
   ],
   "metadata": {}
  },
  {
   "cell_type": "code",
   "execution_count": null,
   "source": [
    "# Callback class that actually add the cuts if subtours are found in a solution\r\n",
    "class MyCallback(ampls.GenericCallback):\r\n",
    "    def run(self):\r\n",
    "        try:\r\n",
    "            # For each solution\r\n",
    "            if self.getAMPLWhere() == ampls.Where.MIPSOL:\r\n",
    "                print(\"\\n******************\\nFound one solution\")\r\n",
    "                sol = self.getSolutionVector()\r\n",
    "                arcs = [xvars[i] for i,value in enumerate(sol) if value > 0]\r\n",
    "                subTours = findSubTours(set(arcs), set(vertices))\r\n",
    "                if len(subTours) ==1:\r\n",
    "                    print(\"No subtours detected. Not adding any cut\")\r\n",
    "                    return 0\r\n",
    "                print(f\"Found {len(subTours)} subtours, plotting them and adding cuts for {len(subTours)-1} tours\")\r\n",
    "                if PLOTSUBTOURS:\r\n",
    "                    plotTours(subTours, CPOINTS)\r\n",
    "                for subTour in subTours:\r\n",
    "                    st1 = set(subTour)\r\n",
    "                    nst1 = set(vertices) - st1\r\n",
    "                    externalArcs = [(i,j) if i < j else (j,i) for i in st1 for j in nst1]\r\n",
    "                    varsExternalArcs = [xinverse[(i,j)] for (i,j) in externalArcs]\r\n",
    "                    coeffs = [1 for i in range(len(varsExternalArcs))]\r\n",
    "                    varsExternalArcs = sorted(varsExternalArcs)\r\n",
    "                    if PLOTSUBTOURS:\r\n",
    "                        print(f\"Adding cut for subtour {str(st1)}\")\r\n",
    "                    self.addLazyIndices(varsExternalArcs , coeffs, ampls.CutDirection.GE, 2)\r\n",
    "                    if len(subTours) == 2:\r\n",
    "                        return 0\r\n",
    "                print(\"Continue solving\")\r\n",
    "            return 0\r\n",
    "        except Exception as e:\r\n",
    "            print('Error:', e)\r\n",
    "            return 1"
   ],
   "outputs": [],
   "metadata": {}
  },
  {
   "cell_type": "code",
   "execution_count": null,
   "source": [
    "# Global variables to store entities needed by the callbacks\r\n",
    "# that never change\r\n",
    "xvars = None\r\n",
    "xinverse = None\r\n",
    "vertices = None\r\n",
    "def solverSubTourElimination(ampl: AMPL, solver):\r\n",
    "    global xvars, xinverse, vertices\r\n",
    "    # Export the model using ampls\r\n",
    "    model = ampl.exportModel(solver)\r\n",
    "    model.enableLazyConstraints()\r\n",
    "\r\n",
    "    # Get the global maps between solver vars and AMPL entities\r\n",
    "    varMap = model.getVarMapFiltered(\"X\")\r\n",
    "    inverse = model.getVarMapInverse()\r\n",
    "    xvars = {index: ampls.var2tuple(var)[1:] for var, index in varMap.items()}\r\n",
    "    xinverse = {ampls.var2tuple(var)[1:]: index for index, var in inverse.items()}\r\n",
    "    vertices = list(sorted(set([x[0] for x in xvars.values()] + [x[1] for x in xvars.values()])))\r\n",
    "\r\n",
    "    # Assign the callback\r\n",
    "    callback = MyCallback()\r\n",
    "    model.setCallback(callback)\r\n",
    "    print(\"Start optimization\")\r\n",
    "    # Start the optimization\r\n",
    "    model.optimize()\r\n",
    "    # Import the solution back to AMPL\r\n",
    "    ampl.importSolution(model)"
   ],
   "outputs": [],
   "metadata": {}
  },
  {
   "cell_type": "markdown",
   "source": [
    "Script running the optimization"
   ],
   "metadata": {}
  },
  {
   "cell_type": "code",
   "execution_count": null,
   "source": [
    "# Set to true to use AMPL, False to use solver callbacks\r\n",
    "doAMPL = False\r\n",
    "if doAMPL:\r\n",
    "    amplSubTourElimination(ampl)\r\n",
    "else:\r\n",
    "    solverSubTourElimination(ampl, solver)"
   ],
   "outputs": [],
   "metadata": {}
  },
  {
   "cell_type": "markdown",
   "source": [
    "Get the solution, print it and display it"
   ],
   "metadata": {}
  },
  {
   "cell_type": "code",
   "execution_count": null,
   "source": [
    "# Get the solution into ARCS\r\n",
    "ARCS = ampl.getData(\"{(i,j) in PAIRS : X[i,j]>0} X[i,j];\")\r\n",
    "ARCS = set([(i,j) for (i,j,k) in ARCS.toList()])\r\n",
    "# Print it\r\n",
    "print(f\"Optimal tour is: {ARCS}\")\r\n",
    "# Display it\r\n",
    "tours = findSubTours(ARCS, NODES)\r\n",
    "plotTours(tours, CPOINTS)"
   ],
   "outputs": [],
   "metadata": {
    "scrolled": true
   }
  }
 ],
 "metadata": {
  "kernelspec": {
   "display_name": "Python 3",
   "language": "python",
   "name": "python3"
  },
  "language_info": {
   "codemirror_mode": {
    "name": "ipython",
    "version": 3
   },
   "file_extension": ".py",
   "mimetype": "text/x-python",
   "name": "python",
   "nbconvert_exporter": "python",
   "pygments_lexer": "ipython3",
   "version": "3.9.5"
  }
 },
 "nbformat": 4,
 "nbformat_minor": 2
}