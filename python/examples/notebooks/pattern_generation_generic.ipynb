{
 "cells": [
  {
   "cell_type": "markdown",
   "metadata": {},
   "source": [
    "# Roll Cutting by Pattern Generation"
   ]
  },
  {
   "cell_type": "markdown",
   "metadata": {},
   "source": [
    "### Imports"
   ]
  },
  {
   "cell_type": "code",
   "execution_count": null,
   "metadata": {},
   "outputs": [],
   "source": [
    "\r\n",
    "# Import utilities\r\n",
    "import os, sys\r\n",
    "from math import floor, ceil\r\n",
    "from __future__ import print_function"
   ]
  },
  {
   "cell_type": "code",
   "execution_count": null,
   "metadata": {},
   "outputs": [],
   "source": [
    "# Import amplpy and gurobipy\r\n",
    "from amplpy import AMPL\r\n",
    "import amplpy_gurobi as ampls"
   ]
  },
  {
   "cell_type": "markdown",
   "metadata": {},
   "source": [
    "### Register jupyter magics for AMPL"
   ]
  },
  {
   "cell_type": "code",
   "execution_count": null,
   "metadata": {},
   "outputs": [],
   "source": [
    "from amplpy import register_magics\n",
    "register_magics('_ampl_cells')  # Store %%ampl cells in the list _ampl_cells"
   ]
  },
  {
   "cell_type": "markdown",
   "metadata": {},
   "source": [
    "### AMPL roll-cutting model (master problem)"
   ]
  },
  {
   "cell_type": "code",
   "execution_count": null,
   "metadata": {},
   "outputs": [],
   "source": [
    "%%ampl\n",
    "param nPatterns integer > 0;\n",
    "\n",
    "set PATTERNS = 1..nPatterns;  # patterns\n",
    "set WIDTHS;                   # finished widths\n",
    "\n",
    "param order {WIDTHS} >= 0;    # rolls of width j ordered\n",
    "param overrun;                # permitted overrun on any width\n",
    "\n",
    "param rawWidth;               # width of raw rolls to be cut\n",
    "param rolls {WIDTHS,PATTERNS} >= 0, default 0;   \n",
    "                              # rolls of width i in pattern j\n",
    "\n",
    "var Cut {PATTERNS} integer >= 0;  # raw rolls to cut in each pattern\n",
    "\n",
    "minimize TotalRawRolls: sum {p in PATTERNS} Cut[p];\n",
    "\n",
    "subject to OrderLimits {w in WIDTHS}:\n",
    "  order[w] <= sum {p in PATTERNS} rolls[w,p] * Cut[p] <= order[w] + overrun;"
   ]
  },
  {
   "cell_type": "markdown",
   "metadata": {},
   "source": [
    "### Python data for cutting patterns"
   ]
  },
  {
   "cell_type": "code",
   "execution_count": null,
   "metadata": {},
   "outputs": [],
   "source": [
    "casename = 'UserCut3'\n",
    "\n",
    "roll_width = 6000\n",
    "overrun = 3\n",
    "\n",
    "orders = {\n",
    "1630: 172,\n",
    "1625: 714,\n",
    "1620: 110,\n",
    "1617: 262,\n",
    "1540: 32,\n",
    "1529: 100,\n",
    "1528: 76,\n",
    "1505: 110,\n",
    "1504: 20,\n",
    "1484: 58,\n",
    "1466: 15,\n",
    "1450: 10,\n",
    "1283: 40,\n",
    "1017: 50,\n",
    "970: 70,\n",
    "930: 8,\n",
    "916: 210,\n",
    "898: 395,\n",
    "894: 49,\n",
    "881: 17,\n",
    "855: 20,\n",
    "844: 10,\n",
    "805: 718,\n",
    "787: 17,\n",
    "786: 710,\n",
    "780: 150,\n",
    "754: 34,\n",
    "746: 15,\n",
    "707: 122,\n",
    "698: 7,\n",
    "651: 10,\n",
    "644: 15,\n",
    "638: 10,\n",
    "605: 10,\n",
    "477: 4,\n",
    "473: 34,\n",
    "471: 25,\n",
    "468: 10,\n",
    "460: 908,\n",
    "458: 161,\n",
    "453: 765,\n",
    "447: 21,\n",
    "441: 20,\n",
    "422: 318,\n",
    "421: 22,\n",
    "419: 382,\n",
    "396: 22,\n",
    "309: 123,\n",
    "266: 35\n",
    "}\n",
    "\n",
    "widths = list(sorted(orders.keys(), reverse=True))"
   ]
  },
  {
   "cell_type": "markdown",
   "metadata": {},
   "source": [
    "### Define the AMPL master problem object and send data"
   ]
  },
  {
   "cell_type": "code",
   "execution_count": null,
   "metadata": {},
   "outputs": [],
   "source": [
    "Master = AMPL()\n",
    "Master.eval(_ampl_cells[0])"
   ]
  },
  {
   "cell_type": "code",
   "execution_count": null,
   "metadata": {},
   "outputs": [],
   "source": [
    "# Send scalar values\n",
    "Master.param['nPatterns'] = len(widths)\n",
    "Master.param['overrun'] = overrun\n",
    "Master.param['rawWidth'] = roll_width\n",
    "\n",
    "# Send order vector\n",
    "Master.set['WIDTHS'] = widths\n",
    "Master.param['order'] = orders\n",
    "\n",
    "# Generate and send initial pattern matrix\n",
    "Master.param['rolls'] = {\n",
    "    (widths[i], 1+i): int(floor(roll_width/widths[i]))\n",
    "    for i in range(len(widths))\n",
    "}"
   ]
  },
  {
   "cell_type": "markdown",
   "metadata": {},
   "source": [
    "### AMPL pattern-generation model (subproblem)"
   ]
  },
  {
   "cell_type": "code",
   "execution_count": null,
   "metadata": {},
   "outputs": [],
   "source": [
    "%%ampl\n",
    "set SIZES;          # ordered widths\n",
    "param cap >= 0;     # width of raw rolls\n",
    "param val {SIZES};  # shadow prices of ordered widths (from Master)\n",
    "\n",
    "var Qty {SIZES} integer >= 0;  # number of each width in generated pattern\n",
    "\n",
    "maximize TotVal: sum {s in SIZES} val[s] * Qty[s];\n",
    "    \n",
    "subject to Cap: sum {s in SIZES} s * Qty[s] <= cap;"
   ]
  },
  {
   "cell_type": "markdown",
   "metadata": {},
   "source": [
    "### Define the AMPL subproblem object and send data"
   ]
  },
  {
   "cell_type": "code",
   "execution_count": null,
   "metadata": {},
   "outputs": [],
   "source": [
    "Sub = AMPL()\n",
    "Sub.eval(_ampl_cells[1])"
   ]
  },
  {
   "cell_type": "code",
   "execution_count": null,
   "metadata": {},
   "outputs": [],
   "source": [
    "Sub.set['SIZES'] = widths\n",
    "Sub.param['cap'] = roll_width"
   ]
  },
  {
   "cell_type": "markdown",
   "metadata": {},
   "source": [
    "### Set up for generation loop"
   ]
  },
  {
   "cell_type": "code",
   "execution_count": null,
   "metadata": {},
   "outputs": [],
   "source": [
    "# Define which solver to use (right now either cplex or gurobi)\r\n",
    "solver = \"gurobi\"\r\n",
    "\r\n",
    "# Define a param for sending new patterns to master problem\r\n",
    "Master.eval('param newPat {WIDTHS} integer >= 0;')\r\n",
    "\r\n",
    "# Set solve options\r\n",
    "Master.option['solver'] = solver\r\n",
    "Master.option['relax_integrality'] =  1\r\n",
    "\r\n",
    "Sub.option['solver'] = solver"
   ]
  },
  {
   "cell_type": "markdown",
   "metadata": {},
   "source": [
    "### Loop"
   ]
  },
  {
   "cell_type": "code",
   "execution_count": null,
   "metadata": {},
   "outputs": [],
   "source": [
    "while True:\n",
    "    Master.solve()\n",
    "\n",
    "    Sub.param['val'].setValues(Master.con['OrderLimits'].getValues())\n",
    "    Sub.solve()\n",
    "    if Sub.obj['TotVal'].value() <= 1.00001:\n",
    "        break\n",
    "\n",
    "    Master.param['newPat'].setValues(Sub.var['Qty'].getValues())\n",
    "    Master.eval('let nPatterns := nPatterns + 1;')\n",
    "    Master.eval('let {w in WIDTHS} rolls[w, nPatterns] := newPat[w];')"
   ]
  },
  {
   "cell_type": "markdown",
   "metadata": {},
   "source": [
    "### Callback definition"
   ]
  },
  {
   "cell_type": "code",
   "execution_count": null,
   "metadata": {},
   "outputs": [],
   "source": [
    "class MyCallback(ampls.GenericCallback):\r\n",
    "    def __init__(self, stoprule):\r\n",
    "        super(MyCallback, self).__init__()\r\n",
    "        self._stoprule = stoprule\r\n",
    "        self._current = 0\r\n",
    "        self._continueOpt = True\r\n",
    "        \r\n",
    "    def setCurrentGap(self):\r\n",
    "        print(\"Increasing gap tolerance to %.2f%%\" % \\\r\n",
    "                    (100*self._stoprule['gaptol'][self._current]))\r\n",
    "        ampls_model.setAMPLsParameter(ampls.SolverParams.DBL_MIPGap,\r\n",
    "                             self._stoprule['gaptol'][self._current])\r\n",
    "    def run(self):\r\n",
    "        where = self.getAMPLWhere()\r\n",
    "        if where == ampls.Where.MIPNODE:\r\n",
    "            runtime = self.getValue(ampls.Value.RUNTIME).dbl\r\n",
    "            if runtime >= self._stoprule['time'][self._current]:\r\n",
    "                print(f\"Stopping optimization at {runtime} seconds\")\r\n",
    "                self._continueOpt = True\r\n",
    "                self._current += 1\r\n",
    "                return 1\r\n",
    "        return 0"
   ]
  },
  {
   "cell_type": "markdown",
   "metadata": {},
   "source": [
    "### Invoke solver to find an integer solution"
   ]
  },
  {
   "cell_type": "code",
   "execution_count": null,
   "metadata": {},
   "outputs": [],
   "source": [
    "Master.option['relax_integrality'] = 0\r\n",
    "# Export model to ampls\r\n",
    "# If we plan to import the results back to AMPL, we have to explicitly set what additional\r\n",
    "# suffixes we want returned at this stage\r\n",
    "# In this case, we want to return the mip gap as a suffix\r\n",
    "ampls_model = Master.exportModel(solver, [\"return_mipgap=5\"])\r\n",
    "\r\n",
    "# Callback's stopping rule is created here...\r\n",
    "stopdict = { 'time'   : (  5,    15,   30, 60 ),\r\n",
    "             'gaptol' : ( .0002, .002, .02, .1 )\r\n",
    "}\r\n",
    "# ...and initialized in the constructor\r\n",
    "callback = MyCallback(stopdict)\r\n",
    "ampls_model.setCallback(callback)\r\n",
    "\r\n",
    "# Invoke solver\r\n",
    "# Most solvers (e.g. Gurobi https://support.gurobi.com/hc/en-us/articles/360039233191-How-do-I-change-parameters-in-a-callback-)\r\n",
    "# do not support changing optimization parameters from a callback\r\n",
    "# Instead we have to stop the optimization, change the desired parameters\r\n",
    "# and start it again\r\n",
    "while callback._continueOpt:\r\n",
    "  callback._continueOpt = False\r\n",
    "  ampls_model.optimize()\r\n",
    "  if callback._continueOpt:\r\n",
    "    callback.setCurrentGap()\r\n",
    "\r\n",
    "# Import solution from Gurobi\r\n",
    "Master.importSolution(ampls_model)"
   ]
  },
  {
   "cell_type": "markdown",
   "metadata": {},
   "source": [
    "### Retrieve solution"
   ]
  },
  {
   "cell_type": "code",
   "execution_count": null,
   "metadata": {
    "scrolled": true
   },
   "outputs": [],
   "source": [
    "# Prepare summary data\n",
    "summary = {\n",
    "    'Data': casename,\n",
    "    'Obj': int(Master.obj['TotalRawRolls'].value()),\n",
    "    'Waste': Master.getValue(\n",
    "             'sum {p in PATTERNS} Cut[p] * \\\n",
    "                (rawWidth - sum {w in WIDTHS} w*rolls[w,p])'\n",
    "             )\n",
    "}\n",
    "\n",
    "# Retrieve patterns and solution\n",
    "npatterns = int(Master.param['nPatterns'].value())\n",
    "rolls = Master.param['rolls'].getValues().toDict()\n",
    "cutvec = Master.var['Cut'].getValues().toDict()\n",
    "\n",
    "print(\"%d patterns generated\" % (npatterns))\n",
    "\n",
    "# Prepare solution data\n",
    "solution = [\n",
    "    ([int(rolls[widths[i], p+1]) \n",
    "      for i in range(len(widths))], int(cutvec[p+1]))\n",
    "    for p in range(npatterns)\n",
    "    if cutvec[p+1] > 0\n",
    "][:50]\n",
    "\n",
    "print(\"%d patterns used\" % (len(solution)))"
   ]
  },
  {
   "cell_type": "markdown",
   "metadata": {},
   "source": [
    "### Plotting routine"
   ]
  },
  {
   "cell_type": "code",
   "execution_count": null,
   "metadata": {},
   "outputs": [],
   "source": [
    "def cuttingPlot(roll_width, widths, summary, solution):\n",
    "    import numpy as np\n",
    "    import matplotlib.pyplot as plt\n",
    "    nchuncks = max(int(ceil(len(solution)/25.0)), 1)\n",
    "    chunck_size = int(ceil(len(solution)/float(nchuncks)))\n",
    "    start = 0\n",
    "    for i in range(nchuncks):            \n",
    "        plt.subplot(1, nchuncks, i+1)        \n",
    "        sol = solution[start:start+chunck_size]\n",
    "        start += chunck_size\n",
    "        ind = np.arange(len(sol))\n",
    "        acc = [0]*len(sol)\n",
    "        colorlist = ['red','lightblue','orange','lightgreen',\n",
    "                     'brown','fuchsia','silver','goldenrod']\n",
    "        for p, (patt, rep) in enumerate(sol):\n",
    "            for i in range(len(widths)):\n",
    "                for j in range(patt[i]):\n",
    "                    vec = [0]*len(sol)\n",
    "                    vec[p] = widths[i]\n",
    "                    plt.barh(ind, vec, 0.6, acc, \n",
    "                             color=colorlist[i%len(colorlist)], edgecolor='black')\n",
    "                    acc[p] += widths[i]\n",
    "        plt.xlim(0, roll_width)\n",
    "        #plt.xticks(np.arange(0, roll_width, 10))\n",
    "        plt.yticks(ind, tuple(\"x {:}\".format(rep) for patt, rep in sol))\n",
    "    plt.suptitle('{}: {} rolls, {} patterns, {:.2f}% waste'.format(\n",
    "        summary['Data'],\n",
    "        summary['Obj'],\n",
    "        len(solution),\n",
    "        round(100*summary['Waste']/(roll_width*summary['Obj']),2),\n",
    "    ))   \n",
    "    plt.show()"
   ]
  },
  {
   "cell_type": "markdown",
   "metadata": {},
   "source": [
    "### Display solution"
   ]
  },
  {
   "cell_type": "code",
   "execution_count": null,
   "metadata": {},
   "outputs": [],
   "source": [
    "# Create plot of solution\n",
    "cuttingPlot(roll_width, widths, summary, solution)"
   ]
  },
  {
   "cell_type": "code",
   "execution_count": null,
   "metadata": {},
   "outputs": [],
   "source": []
  }
 ],
 "metadata": {
  "interpreter": {
   "hash": "1998da80da7a72b4493faf02a82f0c6dfb41b0549038ff0ac25c1d178b516fb7"
  },
  "kernelspec": {
   "display_name": "Python 3.9.4 64-bit ('jupiter': conda)",
   "name": "python3"
  },
  "language_info": {
   "codemirror_mode": {
    "name": "ipython",
    "version": 3
   },
   "file_extension": ".py",
   "mimetype": "text/x-python",
   "name": "python",
   "nbconvert_exporter": "python",
   "pygments_lexer": "ipython3",
   "version": "3.9.4"
  }
 },
 "nbformat": 4,
 "nbformat_minor": 2
}