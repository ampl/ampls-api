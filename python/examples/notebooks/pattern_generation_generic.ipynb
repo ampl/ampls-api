{
 "cells": [
  {
   "cell_type": "markdown",
   "source": [
    "# Roll Cutting by Pattern Generation"
   ],
   "metadata": {}
  },
  {
   "cell_type": "markdown",
   "source": [
    "### Imports"
   ],
   "metadata": {}
  },
  {
   "cell_type": "code",
   "execution_count": null,
   "source": [
    "# Add library location to system path\r\n",
    "# This is only necessary when using a non-distributed version of amplpy_gurobi\r\n",
    "from sys import path\r\n",
    "path.append(\"D:\\\\Development\\\\ampl\\solvers-private\\\\build\\\\vs64\\\\bin\")\r\n"
   ],
   "outputs": [],
   "metadata": {}
  },
  {
   "cell_type": "code",
   "execution_count": null,
   "source": [
    "\r\n",
    "# Import utilities\r\n",
    "from math import floor, ceil\r\n"
   ],
   "outputs": [],
   "metadata": {}
  },
  {
   "cell_type": "code",
   "execution_count": null,
   "source": [
    "# Import amplpy and gurobipy\r\n",
    "from amplpy import AMPL\r\n",
    "import amplpy_gurobi as ampls"
   ],
   "outputs": [],
   "metadata": {}
  },
  {
   "cell_type": "markdown",
   "source": [
    "### Register jupyter magics for AMPL"
   ],
   "metadata": {}
  },
  {
   "cell_type": "code",
   "execution_count": null,
   "source": [
    "from amplpy import register_magics\r\n",
    "register_magics('_ampl_cells')  # Store %%ampl cells in the list _ampl_cells"
   ],
   "outputs": [],
   "metadata": {}
  },
  {
   "cell_type": "markdown",
   "source": [
    "### AMPL roll-cutting model (master problem)"
   ],
   "metadata": {}
  },
  {
   "cell_type": "code",
   "execution_count": null,
   "source": [
    "%%ampl\r\n",
    "param nPatterns integer > 0;\r\n",
    "\r\n",
    "set PATTERNS = 1..nPatterns;  # patterns\r\n",
    "set WIDTHS;                   # finished widths\r\n",
    "\r\n",
    "param order {WIDTHS} >= 0;    # rolls of width j ordered\r\n",
    "param overrun;                # permitted overrun on any width\r\n",
    "\r\n",
    "param rawWidth;               # width of raw rolls to be cut\r\n",
    "param rolls {WIDTHS,PATTERNS} >= 0, default 0;   \r\n",
    "                              # rolls of width i in pattern j\r\n",
    "\r\n",
    "var Cut {PATTERNS} integer >= 0;  # raw rolls to cut in each pattern\r\n",
    "\r\n",
    "minimize TotalRawRolls: sum {p in PATTERNS} Cut[p];\r\n",
    "\r\n",
    "subject to OrderLimits {w in WIDTHS}:\r\n",
    "  order[w] <= sum {p in PATTERNS} rolls[w,p] * Cut[p] <= order[w] + overrun;"
   ],
   "outputs": [],
   "metadata": {}
  },
  {
   "cell_type": "markdown",
   "source": [
    "### Python data for cutting patterns"
   ],
   "metadata": {}
  },
  {
   "cell_type": "code",
   "execution_count": null,
   "source": [
    "casename = 'UserCut3'\r\n",
    "\r\n",
    "roll_width = 6000\r\n",
    "overrun = 3\r\n",
    "\r\n",
    "orders = {\r\n",
    "1630: 172,\r\n",
    "1625: 714,\r\n",
    "1620: 110,\r\n",
    "1617: 262,\r\n",
    "1540: 32,\r\n",
    "1529: 100,\r\n",
    "1528: 76,\r\n",
    "1505: 110,\r\n",
    "1504: 20,\r\n",
    "1484: 58,\r\n",
    "1466: 15,\r\n",
    "1450: 10,\r\n",
    "1283: 40,\r\n",
    "1017: 50,\r\n",
    "970: 70,\r\n",
    "930: 8,\r\n",
    "916: 210,\r\n",
    "898: 395,\r\n",
    "894: 49,\r\n",
    "881: 17,\r\n",
    "855: 20,\r\n",
    "844: 10,\r\n",
    "805: 718,\r\n",
    "787: 17,\r\n",
    "786: 710,\r\n",
    "780: 150,\r\n",
    "754: 34,\r\n",
    "746: 15,\r\n",
    "707: 122,\r\n",
    "698: 7,\r\n",
    "651: 10,\r\n",
    "644: 15,\r\n",
    "638: 10,\r\n",
    "605: 10,\r\n",
    "477: 4,\r\n",
    "473: 34,\r\n",
    "471: 25,\r\n",
    "468: 10,\r\n",
    "460: 908,\r\n",
    "458: 161,\r\n",
    "453: 765,\r\n",
    "447: 21,\r\n",
    "441: 20,\r\n",
    "422: 318,\r\n",
    "421: 22,\r\n",
    "419: 382,\r\n",
    "396: 22,\r\n",
    "309: 123,\r\n",
    "266: 35\r\n",
    "}\r\n",
    "\r\n",
    "widths = list(sorted(orders.keys(), reverse=True))"
   ],
   "outputs": [],
   "metadata": {}
  },
  {
   "cell_type": "markdown",
   "source": [
    "### Define the AMPL master problem object and send data"
   ],
   "metadata": {}
  },
  {
   "cell_type": "code",
   "execution_count": null,
   "source": [
    "Master = AMPL()\r\n",
    "Master.eval(_ampl_cells[0])"
   ],
   "outputs": [],
   "metadata": {}
  },
  {
   "cell_type": "code",
   "execution_count": null,
   "source": [
    "# Send scalar values\r\n",
    "Master.param['nPatterns'] = len(widths)\r\n",
    "Master.param['overrun'] = overrun\r\n",
    "Master.param['rawWidth'] = roll_width\r\n",
    "\r\n",
    "# Send order vector\r\n",
    "Master.set['WIDTHS'] = widths\r\n",
    "Master.param['order'] = orders\r\n",
    "\r\n",
    "# Generate and send initial pattern matrix\r\n",
    "Master.param['rolls'] = {\r\n",
    "    (widths[i], 1+i): int(floor(roll_width/widths[i]))\r\n",
    "    for i in range(len(widths))\r\n",
    "}"
   ],
   "outputs": [],
   "metadata": {}
  },
  {
   "cell_type": "markdown",
   "source": [
    "### AMPL pattern-generation model (subproblem)"
   ],
   "metadata": {}
  },
  {
   "cell_type": "code",
   "execution_count": null,
   "source": [
    "%%ampl\r\n",
    "set SIZES;          # ordered widths\r\n",
    "param cap >= 0;     # width of raw rolls\r\n",
    "param val {SIZES};  # shadow prices of ordered widths (from Master)\r\n",
    "\r\n",
    "var Qty {SIZES} integer >= 0;  # number of each width in generated pattern\r\n",
    "\r\n",
    "maximize TotVal: sum {s in SIZES} val[s] * Qty[s];\r\n",
    "    \r\n",
    "subject to Cap: sum {s in SIZES} s * Qty[s] <= cap;"
   ],
   "outputs": [],
   "metadata": {}
  },
  {
   "cell_type": "markdown",
   "source": [
    "### Define the AMPL subproblem object and send data"
   ],
   "metadata": {}
  },
  {
   "cell_type": "code",
   "execution_count": null,
   "source": [
    "Sub = AMPL()\r\n",
    "Sub.eval(_ampl_cells[1])"
   ],
   "outputs": [],
   "metadata": {}
  },
  {
   "cell_type": "code",
   "execution_count": null,
   "source": [
    "Sub.set['SIZES'] = widths\r\n",
    "Sub.param['cap'] = roll_width"
   ],
   "outputs": [],
   "metadata": {}
  },
  {
   "cell_type": "markdown",
   "source": [
    "### Set up for generation loop"
   ],
   "metadata": {}
  },
  {
   "cell_type": "code",
   "execution_count": null,
   "source": [
    "# Define which solver to use (right now either cplex or gurobi)\r\n",
    "solver = \"gurobi\"\r\n",
    "\r\n",
    "# Define a param for sending new patterns to master problem\r\n",
    "Master.eval('param newPat {WIDTHS} integer >= 0;')\r\n",
    "\r\n",
    "# Set solve options\r\n",
    "Master.option['solver'] = solver\r\n",
    "Master.option['relax_integrality'] =  1\r\n",
    "\r\n",
    "Sub.option['solver'] = solver"
   ],
   "outputs": [],
   "metadata": {}
  },
  {
   "cell_type": "markdown",
   "source": [
    "### Loop"
   ],
   "metadata": {}
  },
  {
   "cell_type": "code",
   "execution_count": null,
   "source": [
    "while True:\r\n",
    "    Master.solve()\r\n",
    "\r\n",
    "    Sub.param['val'].setValues(Master.con['OrderLimits'].getValues())\r\n",
    "    Sub.solve()\r\n",
    "    if Sub.obj['TotVal'].value() <= 1.00001:\r\n",
    "        break\r\n",
    "\r\n",
    "    Master.param['newPat'].setValues(Sub.var['Qty'].getValues())\r\n",
    "    Master.eval('let nPatterns := nPatterns + 1;')\r\n",
    "    Master.eval('let {w in WIDTHS} rolls[w, nPatterns] := newPat[w];')"
   ],
   "outputs": [],
   "metadata": {}
  },
  {
   "cell_type": "markdown",
   "source": [
    "### Callback definition"
   ],
   "metadata": {}
  },
  {
   "cell_type": "code",
   "execution_count": null,
   "source": [
    "class MyCallback(ampls.GenericCallback):\r\n",
    "    def __init__(self, stoprule):\r\n",
    "        super(MyCallback, self).__init__()\r\n",
    "        self._stoprule = stoprule\r\n",
    "        self._current = 0\r\n",
    "        self._continueOpt = True\r\n",
    "        \r\n",
    "    def setCurrentGap(self):\r\n",
    "        print(\"Increasing gap tolerance to %.2f%%\" % \\\r\n",
    "                    (100*self._stoprule['gaptol'][self._current]))\r\n",
    "        ampls_model.setAMPLsParameter(ampls.SolverParams.DBL_MIPGap,\r\n",
    "                             self._stoprule['gaptol'][self._current])\r\n",
    "        self._current += 1\r\n",
    "    def run(self):\r\n",
    "        where = self.getAMPLWhere()\r\n",
    "        # Check if we hit our runtime limit every time we enter a new MIP node\r\n",
    "        if where == ampls.Where.MIPNODE:\r\n",
    "            runtime = self.getValue(ampls.Value.RUNTIME).dbl\r\n",
    "            if runtime >= self._stoprule['time'][self._current]:\r\n",
    "                print(f\"Stopping optimization at {runtime} seconds\")\r\n",
    "                self._continueOpt = True\r\n",
    "                return -1\r\n",
    "        # Print the solver message if present\r\n",
    "        if where == ampls.Where.MSG:\r\n",
    "            print(self.getMessage())\r\n",
    "        return 0"
   ],
   "outputs": [],
   "metadata": {}
  },
  {
   "cell_type": "markdown",
   "source": [
    "### Invoke solver to find an integer solution"
   ],
   "metadata": {}
  },
  {
   "cell_type": "code",
   "execution_count": null,
   "source": [
    "Master.option['relax_integrality'] = 0\r\n",
    "# Export model to ampls\r\n",
    "# If we plan to import the results back to AMPL, we have to explicitly set what additional\r\n",
    "# suffixes we want returned at this stage\r\n",
    "# In this case, we want to return the mip gap as a suffix\r\n",
    "ampls_model = Master.exportModel(solver, [\"return_mipgap=5\", \"outlev=1\"])\r\n",
    "\r\n",
    "# Callback's stopping rule is created here...\r\n",
    "stopdict = { 'time'   : (  3,    6,   10, 60 ),\r\n",
    "             'gaptol' : ( .0002, .002, .02, .1 )\r\n",
    "}\r\n",
    "# ...and initialized in the constructor\r\n",
    "callback = MyCallback(stopdict)\r\n",
    "ampls_model.setCallback(callback)\r\n",
    "\r\n",
    "# Invoke solver\r\n",
    "# Most solvers (e.g. Gurobi https://support.gurobi.com/hc/en-us/articles/360039233191-How-do-I-change-parameters-in-a-callback-)\r\n",
    "# do not support changing optimization parameters from a callback\r\n",
    "# Instead we have to stop the optimization, change the desired parameters\r\n",
    "# and start it again\r\n",
    "while callback._continueOpt:\r\n",
    "  callback._continueOpt = False\r\n",
    "  ampls_model.optimize()\r\n",
    "  if callback._continueOpt:\r\n",
    "    callback.setCurrentGap()\r\n",
    "\r\n",
    "# Import solution from Gurobi\r\n",
    "Master.importSolution(ampls_model)\r\n",
    "\r\n",
    "if solver == \"gurobi\": # use solver-specific API to get the actual MIPGAP\r\n",
    "  print(f\"From Gurobi MIPGap={100*ampls_model.getDoubleAttr(ampls.GRB_DBL_ATTR_MIPGAP):.3f}%\")\r\n",
    "\r\n",
    "print(f\"From AMPL MIPGap={100*Master.getValue('TotalRawRolls.relmipgap'):.3f}%\")\r\n",
    "print(f\"Objective value: {Master.getValue('TotalRawRolls')}\")"
   ],
   "outputs": [],
   "metadata": {}
  },
  {
   "cell_type": "markdown",
   "source": [
    "### Retrieve solution"
   ],
   "metadata": {}
  },
  {
   "cell_type": "code",
   "execution_count": null,
   "source": [
    "# Prepare summary data\r\n",
    "summary = {\r\n",
    "    'Data': casename,\r\n",
    "    'Obj': int(Master.obj['TotalRawRolls'].value()),\r\n",
    "    'Waste': Master.getValue(\r\n",
    "             'sum {p in PATTERNS} Cut[p] * \\\r\n",
    "                (rawWidth - sum {w in WIDTHS} w*rolls[w,p])'\r\n",
    "             )\r\n",
    "}\r\n",
    "\r\n",
    "# Retrieve patterns and solution\r\n",
    "npatterns = int(Master.param['nPatterns'].value())\r\n",
    "rolls = Master.param['rolls'].getValues().toDict()\r\n",
    "cutvec = Master.var['Cut'].getValues().toDict()\r\n",
    "\r\n",
    "print(\"%d patterns generated\" % (npatterns))\r\n",
    "\r\n",
    "# Prepare solution data\r\n",
    "solution = [\r\n",
    "    ([int(rolls[widths[i], p+1]) \r\n",
    "      for i in range(len(widths))], int(cutvec[p+1]))\r\n",
    "    for p in range(npatterns)\r\n",
    "    if cutvec[p+1] > 0\r\n",
    "][:50]\r\n",
    "\r\n",
    "print(\"%d patterns used\" % (len(solution)))"
   ],
   "outputs": [],
   "metadata": {
    "scrolled": true
   }
  },
  {
   "cell_type": "markdown",
   "source": [
    "### Plotting routine"
   ],
   "metadata": {}
  },
  {
   "cell_type": "code",
   "execution_count": null,
   "source": [
    "def cuttingPlot(roll_width, widths, summary, solution):\r\n",
    "    import numpy as np\r\n",
    "    import matplotlib.pyplot as plt\r\n",
    "    nchuncks = max(int(ceil(len(solution)/25.0)), 1)\r\n",
    "    chunck_size = int(ceil(len(solution)/float(nchuncks)))\r\n",
    "    start = 0\r\n",
    "    for i in range(nchuncks):            \r\n",
    "        plt.subplot(1, nchuncks, i+1)        \r\n",
    "        sol = solution[start:start+chunck_size]\r\n",
    "        start += chunck_size\r\n",
    "        ind = np.arange(len(sol))\r\n",
    "        acc = [0]*len(sol)\r\n",
    "        colorlist = ['red','lightblue','orange','lightgreen',\r\n",
    "                     'brown','fuchsia','silver','goldenrod']\r\n",
    "        for p, (patt, rep) in enumerate(sol):\r\n",
    "            for i in range(len(widths)):\r\n",
    "                for j in range(patt[i]):\r\n",
    "                    vec = [0]*len(sol)\r\n",
    "                    vec[p] = widths[i]\r\n",
    "                    plt.barh(ind, vec, 0.6, acc, \r\n",
    "                             color=colorlist[i%len(colorlist)], edgecolor='black')\r\n",
    "                    acc[p] += widths[i]\r\n",
    "        plt.xlim(0, roll_width)\r\n",
    "        #plt.xticks(np.arange(0, roll_width, 10))\r\n",
    "        plt.yticks(ind, tuple(\"x {:}\".format(rep) for patt, rep in sol))\r\n",
    "    plt.suptitle('{}: {} rolls, {} patterns, {:.2f}% waste'.format(\r\n",
    "        summary['Data'],\r\n",
    "        summary['Obj'],\r\n",
    "        len(solution),\r\n",
    "        round(100*summary['Waste']/(roll_width*summary['Obj']),2),\r\n",
    "    ))   \r\n",
    "    plt.show()"
   ],
   "outputs": [],
   "metadata": {}
  },
  {
   "cell_type": "markdown",
   "source": [
    "### Display solution"
   ],
   "metadata": {}
  },
  {
   "cell_type": "code",
   "execution_count": null,
   "source": [
    "# Create plot of solution\r\n",
    "cuttingPlot(roll_width, widths, summary, solution)"
   ],
   "outputs": [],
   "metadata": {}
  },
  {
   "cell_type": "code",
   "execution_count": null,
   "source": [],
   "outputs": [],
   "metadata": {}
  }
 ],
 "metadata": {
  "interpreter": {
   "hash": "1998da80da7a72b4493faf02a82f0c6dfb41b0549038ff0ac25c1d178b516fb7"
  },
  "kernelspec": {
   "display_name": "Python 3.9.4 64-bit ('jupiter': conda)",
   "name": "python3"
  },
  "language_info": {
   "codemirror_mode": {
    "name": "ipython",
    "version": 3
   },
   "file_extension": ".py",
   "mimetype": "text/x-python",
   "name": "python",
   "nbconvert_exporter": "python",
   "pygments_lexer": "ipython3",
   "version": "3.9.4"
  }
 },
 "nbformat": 4,
 "nbformat_minor": 2
}